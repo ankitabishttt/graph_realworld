{
  "nbformat": 4,
  "nbformat_minor": 0,
  "metadata": {
    "colab": {
      "provenance": [],
      "authorship_tag": "ABX9TyOgccWxFat2Anj8W26oLCqf",
      "include_colab_link": true
    },
    "kernelspec": {
      "name": "python3",
      "display_name": "Python 3"
    },
    "language_info": {
      "name": "python"
    }
  },
  "cells": [
    {
      "cell_type": "markdown",
      "metadata": {
        "id": "view-in-github",
        "colab_type": "text"
      },
      "source": [
        "<a href=\"https://colab.research.google.com/github/ankitabishttt/graph_realworld/blob/main/DAA_Lab_Assignment_3.ipynb\" target=\"_parent\"><img src=\"https://colab.research.google.com/assets/colab-badge.svg\" alt=\"Open In Colab\"/></a>"
      ]
    },
    {
      "cell_type": "code",
      "execution_count": 2,
      "metadata": {
        "id": "NY7RTQyY7FIT"
      },
      "outputs": [],
      "source": [
        "!pip install networkx matplotlib memory-profiler --quiet\n",
        "%load_ext memory_profiler\n"
      ]
    },
    {
      "cell_type": "code",
      "source": [
        "import heapq\n",
        "import time\n",
        "from memory_profiler import memory_usage\n",
        "import matplotlib.pyplot as plt\n",
        "from collections import deque, defaultdict\n",
        "import networkx as nx  # optional for visualization and checks\n",
        "\n",
        "# Helper utilities for profiling\n",
        "def profile_time(func, *args, **kwargs):\n",
        "    \"\"\"Return (result, elapsed_seconds).\"\"\"\n",
        "    t0 = time.perf_counter()\n",
        "    res = func(*args, **kwargs)\n",
        "    t1 = time.perf_counter()\n",
        "    return res, (t1 - t0)\n",
        "\n",
        "def profile_memory(func, *args, **kwargs):\n",
        "    \"\"\"Return (result, peak_memory_MB). Runs memory_usage during execution.\"\"\"\n",
        "    mem_usage = []\n",
        "    def _run():\n",
        "        return func(*args, **kwargs)\n",
        "\n",
        "    # memory_usage will run _run and record memory; retval via retval=True\n",
        "    mem, retval = memory_usage((_run, ), retval=True, interval=0.01, timeout=None)\n",
        "    # if mem is a list of samples, peak is max - baseline. memory_usage returns list if not retval?\n",
        "    try:\n",
        "        peak = max(mem) - min(mem)\n",
        "    except Exception:\n",
        "        # fallback\n",
        "        peak = max(mem) if isinstance(mem, (list, tuple)) else mem\n",
        "    return retval, peak\n"
      ],
      "metadata": {
        "id": "s-2EQWJ_8TlA"
      },
      "execution_count": 3,
      "outputs": []
    },
    {
      "cell_type": "code",
      "source": [
        "# Problem 1: Friend suggestions using BFS or DFS\n",
        "\n",
        "def build_undirected_graph(edges):\n",
        "    \"\"\"edges: list of pairs (u, v). Returns adjacency dict.\"\"\"\n",
        "    g = defaultdict(set)\n",
        "    for u, v in edges:\n",
        "        g[u].add(v)\n",
        "        g[v].add(u)\n",
        "    return dict(g)\n",
        "\n",
        "def suggest_friends_bfs(graph, user, max_depth=2):\n",
        "    \"\"\"\n",
        "    Return suggested friends for `user` found at exactly depth=2 (friends of friends),\n",
        "    excluding existing friends and the user themself.\n",
        "    \"\"\"\n",
        "    if user not in graph:\n",
        "        return []\n",
        "    visited = set([user])\n",
        "    q = deque([(user, 0)])\n",
        "    suggestions = set()\n",
        "    while q:\n",
        "        node, depth = q.popleft()\n",
        "        if depth >= max_depth:\n",
        "            continue\n",
        "        for nbr in graph.get(node, []):\n",
        "            if nbr not in visited:\n",
        "                visited.add(nbr)\n",
        "                q.append((nbr, depth + 1))\n",
        "            # if neighbor is at depth 2 relative to user, record as suggestion\n",
        "            if depth + 1 == max_depth:\n",
        "                if nbr != user and nbr not in graph[user]:\n",
        "                    suggestions.add(nbr)\n",
        "    return sorted(suggestions)\n",
        "\n",
        "# Example graph\n",
        "edges = [\n",
        "    (\"A\",\"B\"), (\"A\",\"C\"), (\"B\",\"D\"), (\"C\",\"E\"),\n",
        "    (\"D\",\"F\"), (\"E\",\"G\"), (\"H\",\"G\"), (\"B\",\"C\"),\n",
        "    (\"F\",\"I\"), (\"G\",\"J\"), (\"J\",\"K\")\n",
        "]\n",
        "graph = build_undirected_graph(edges)\n",
        "\n",
        "print(\"Adjacency list:\")\n",
        "for k in sorted(graph):\n",
        "    print(k, \"->\", sorted(graph[k]))\n",
        "\n",
        "user = \"A\"\n",
        "suggestions = suggest_friends_bfs(graph, user)\n",
        "print(f\"\\nSuggested friends for {user} (friends of friends not already connected): {suggestions}\")\n"
      ],
      "metadata": {
        "colab": {
          "base_uri": "https://localhost:8080/"
        },
        "id": "PRsMC5QX8XmR",
        "outputId": "102dfbd4-8f5f-431e-8eff-33aa3903084b"
      },
      "execution_count": 5,
      "outputs": [
        {
          "output_type": "stream",
          "name": "stdout",
          "text": [
            "Adjacency list:\n",
            "A -> ['B', 'C']\n",
            "B -> ['A', 'C', 'D']\n",
            "C -> ['A', 'B', 'E']\n",
            "D -> ['B', 'F']\n",
            "E -> ['C', 'G']\n",
            "F -> ['D', 'I']\n",
            "G -> ['E', 'H', 'J']\n",
            "H -> ['G']\n",
            "I -> ['F']\n",
            "J -> ['G', 'K']\n",
            "K -> ['J']\n",
            "\n",
            "Suggested friends for A (friends of friends not already connected): ['D', 'E']\n"
          ]
        }
      ]
    },
    {
      "cell_type": "code",
      "source": [
        "def bellman_ford(nodes, edges, source):\n",
        "    \"\"\"\n",
        "    nodes: iterable of vertices\n",
        "    edges: list of tuples (u, v, w)\n",
        "    source: source node\n",
        "    Returns (dist, predecessor, negative_cycle_nodes_set_or_None)\n",
        "    \"\"\"\n",
        "    dist = {v: float('inf') for v in nodes}\n",
        "    pred = {v: None for v in nodes}\n",
        "    dist[source] = 0\n",
        "\n",
        "    V = len(nodes)\n",
        "    # Relax edges V-1 times\n",
        "    for i in range(V - 1):\n",
        "        updated = False\n",
        "        for u, v, w in edges:\n",
        "            if dist[u] + w < dist[v]:\n",
        "                dist[v] = dist[u] + w\n",
        "                pred[v] = u\n",
        "                updated = True\n",
        "        if not updated:\n",
        "            break\n",
        "\n",
        "    # Check for negative weight cycles\n",
        "    neg_cycle_nodes = set()\n",
        "    for u, v, w in edges:\n",
        "        if dist[u] + w < dist[v]:\n",
        "            neg_cycle_nodes.add(v)\n",
        "            neg_cycle_nodes.add(u)\n",
        "\n",
        "    if neg_cycle_nodes:\n",
        "        return dist, pred, neg_cycle_nodes\n",
        "    return dist, pred, None\n",
        "\n",
        "# Example: nodes and edges; include negative weights but no negative cycle\n",
        "nodes = [\"S\",\"A\",\"B\",\"C\",\"D\"]\n",
        "edges = [\n",
        "    (\"S\",\"A\", 6), (\"S\",\"B\", 7),\n",
        "    (\"A\",\"C\", 5), (\"A\",\"B\", 8), (\"A\",\"D\", -4),\n",
        "    (\"B\",\"C\", -3), (\"C\",\"D\", 9), (\"D\",\"A\", 2)\n",
        "]\n",
        "\n",
        "dist, pred, neg = bellman_ford(nodes, edges, \"S\")\n",
        "print(\"Distances from S:\", dist)\n",
        "if neg:\n",
        "    print(\"Negative cycle detected involving nodes:\", neg)\n",
        "else:\n",
        "    print(\"No negative cycle detected.\")\n"
      ],
      "metadata": {
        "colab": {
          "base_uri": "https://localhost:8080/"
        },
        "id": "svIIyhH98rXx",
        "outputId": "ecbf4f51-d00e-43b0-e6ba-828850dd8244"
      },
      "execution_count": 7,
      "outputs": [
        {
          "output_type": "stream",
          "name": "stdout",
          "text": [
            "Distances from S: {'S': 0, 'A': -2, 'B': 7, 'C': 4, 'D': -4}\n",
            "Negative cycle detected involving nodes: {'D', 'B', 'A', 'C'}\n"
          ]
        }
      ]
    },
    {
      "cell_type": "code",
      "source": [
        "def dijkstra(graph, source):\n",
        "    \"\"\"\n",
        "    graph: adjacency dict mapping u -> list of (v, w)\n",
        "    source: source node\n",
        "    Returns distances dict and predecessor dict.\n",
        "    \"\"\"\n",
        "    dist = {node: float('inf') for node in graph}\n",
        "    pred = {node: None for node in graph}\n",
        "    dist[source] = 0\n",
        "    visited = set()\n",
        "    heap = [(0, source)]\n",
        "\n",
        "    while heap:\n",
        "        d, u = heapq.heappop(heap)\n",
        "        if u in visited:\n",
        "            continue\n",
        "        visited.add(u)\n",
        "        for v, w in graph[u]:\n",
        "            if dist[u] + w < dist[v]:\n",
        "                dist[v] = dist[u] + w\n",
        "                pred[v] = u\n",
        "                heapq.heappush(heap, (dist[v], v))\n",
        "    return dist, pred\n",
        "\n",
        "# Example graph (positive weights)\n",
        "graph_dij = {\n",
        "    \"A\":[(\"B\",4), (\"C\",2)],\n",
        "    \"B\":[(\"A\",4), (\"C\",1), (\"D\",5)],\n",
        "    \"C\":[(\"A\",2), (\"B\",1), (\"D\",8), (\"E\",10)],\n",
        "    \"D\":[(\"B\",5), (\"C\",8), (\"E\",2)],\n",
        "    \"E\":[(\"C\",10), (\"D\",2)]\n",
        "}\n",
        "\n",
        "dist, pred = dijkstra(graph_dij, \"A\")\n",
        "print(\"Shortest distances from A:\", dist)\n"
      ],
      "metadata": {
        "colab": {
          "base_uri": "https://localhost:8080/"
        },
        "id": "MzvwPggV80-o",
        "outputId": "15fd7501-3187-4fbe-eaf1-99a5c3779a78"
      },
      "execution_count": 8,
      "outputs": [
        {
          "output_type": "stream",
          "name": "stdout",
          "text": [
            "Shortest distances from A: {'A': 0, 'B': 3, 'C': 2, 'D': 8, 'E': 10}\n"
          ]
        }
      ]
    },
    {
      "cell_type": "code",
      "source": [
        "def prim_mst(graph):\n",
        "    \"\"\"\n",
        "    graph: adjacency dict mapping u -> list of (v, w)\n",
        "    Returns (total_cost, mst_edges) where mst_edges is list of (u, v, w)\n",
        "    \"\"\"\n",
        "    start = next(iter(graph))\n",
        "    visited = set([start])\n",
        "    edges_heap = []\n",
        "    for v, w in graph[start]:\n",
        "        heapq.heappush(edges_heap, (w, start, v))\n",
        "    mst_edges = []\n",
        "    total_cost = 0\n",
        "\n",
        "    while edges_heap and len(visited) < len(graph):\n",
        "        w, u, v = heapq.heappop(edges_heap)\n",
        "        if v in visited:\n",
        "            continue\n",
        "        visited.add(v)\n",
        "        mst_edges.append((u, v, w))\n",
        "        total_cost += w\n",
        "        for to, wt in graph[v]:\n",
        "            if to not in visited:\n",
        "                heapq.heappush(edges_heap, (wt, v, to))\n",
        "    # Check connectedness\n",
        "    if len(visited) != len(graph):\n",
        "        raise ValueError(\"Graph is not connected; MST not possible for all nodes.\")\n",
        "    return total_cost, mst_edges\n",
        "\n",
        "# Example undirected weighted graph (adjacency dict)\n",
        "graph_mst = {\n",
        "    \"A\":[(\"B\",2), (\"C\",3)],\n",
        "    \"B\":[(\"A\",2), (\"C\",1), (\"D\",4)],\n",
        "    \"C\":[(\"A\",3), (\"B\",1), (\"D\",5)],\n",
        "    \"D\":[(\"B\",4), (\"C\",5)]\n",
        "}\n",
        "\n",
        "cost, edges_selected = prim_mst(graph_mst)\n",
        "print(\"MST total cost:\", cost)\n",
        "print(\"Edges in MST:\", edges_selected)\n"
      ],
      "metadata": {
        "colab": {
          "base_uri": "https://localhost:8080/"
        },
        "id": "n3gIyCKE844o",
        "outputId": "0cb3f04f-6d8d-4747-864e-8a8ccc63430a"
      },
      "execution_count": 9,
      "outputs": [
        {
          "output_type": "stream",
          "name": "stdout",
          "text": [
            "MST total cost: 7\n",
            "Edges in MST: [('A', 'B', 2), ('B', 'C', 1), ('B', 'D', 4)]\n"
          ]
        }
      ]
    },
    {
      "cell_type": "code",
      "source": [
        "import random\n",
        "\n",
        "def generate_random_graph_undirected(n_nodes, p_edge=0.2, weight_range=(1, 20)):\n",
        "    nodes = [f\"N{i}\" for i in range(n_nodes)]\n",
        "    graph = {n: [] for n in nodes}\n",
        "    edges = []\n",
        "    for i in range(n_nodes):\n",
        "        for j in range(i+1, n_nodes):\n",
        "            if random.random() < p_edge:\n",
        "                w = random.randint(*weight_range)\n",
        "                graph[nodes[i]].append((nodes[j], w))\n",
        "                graph[nodes[j]].append((nodes[i], w))\n",
        "                edges.append((nodes[i], nodes[j], w))\n",
        "    return nodes, graph, edges\n",
        "\n",
        "def generate_random_graph_directed(n_nodes, p_edge=0.2, weight_range=(-5, 20)):\n",
        "    nodes = [f\"N{i}\" for i in range(n_nodes)]\n",
        "    edges = []\n",
        "    for i in range(n_nodes):\n",
        "        for j in range(n_nodes):\n",
        "            if i != j and random.random() < p_edge:\n",
        "                w = random.randint(*weight_range)\n",
        "                edges.append((nodes[i], nodes[j], w))\n",
        "    return nodes, edges\n",
        "\n",
        "# Quick profiling on a few sizes\n",
        "sizes = [20, 50, 100]  # keep smallish for Colab demo; increase for deeper study\n",
        "results = []\n",
        "\n",
        "for n in sizes:\n",
        "    print(f\"\\n--- Profiling with n={n} nodes ---\")\n",
        "    # For Dijkstra and Prim (undirected positive weights)\n",
        "    nodes, graph_u, edges_u = generate_random_graph_undirected(n, p_edge=0.08, weight_range=(1,50))\n",
        "    src = nodes[0]\n",
        "\n",
        "    # Dijkstra timing\n",
        "    (dij_res, dij_time) = profile_time(dijkstra, graph_u, src)\n",
        "    print(f\"Dijkstra time: {dij_time:.4f}s\")\n",
        "\n",
        "    # Prim timing\n",
        "    try:\n",
        "        (prim_res, prim_time) = profile_time(prim_mst, graph_u)\n",
        "        print(f\"Prim time: {prim_time:.4f}s\")\n",
        "    except ValueError as e:\n",
        "        prim_res, prim_time = None, None\n",
        "        print(\"Prim: graph not connected, skipped.\")\n",
        "\n",
        "    # For Bellman-Ford (directed)\n",
        "    nodes_d, edges_d = generate_random_graph_directed(n, p_edge=0.04, weight_range=(-2, 20))\n",
        "    # ensure source in nodes\n",
        "    src_d = nodes_d[0]\n",
        "    (bf_res, bf_time) = profile_time(bellman_ford, nodes_d, edges_d, src_d)\n",
        "    print(f\"Bellman-Ford time: {bf_time:.4f}s\")\n",
        "\n",
        "    results.append({\n",
        "        \"n\": n,\n",
        "        \"dijkstra_time\": dij_time,\n",
        "        \"prim_time\": prim_time,\n",
        "        \"bellman_time\": bf_time\n",
        "    })\n",
        "\n",
        "# Plot times\n",
        "plt.figure(figsize=(8,5))\n",
        "ns = [r['n'] for r in results]\n",
        "plt.plot(ns, [r['dijkstra_time'] for r in results], marker='o', label='Dijkstra')\n",
        "plt.plot(ns, [r['prim_time'] if r['prim_time'] is not None else float('nan') for r in results], marker='o', label='Prim')\n",
        "plt.plot(ns, [r['bellman_time'] for r in results], marker='o', label='Bellman-Ford')\n",
        "plt.xlabel(\"Number of nodes\")\n",
        "plt.ylabel(\"Execution time (s)\")\n",
        "plt.title(\"Algorithm execution time vs nodes (demo)\")\n",
        "plt.legend()\n",
        "plt.grid(True)\n",
        "plt.show()\n"
      ],
      "metadata": {
        "colab": {
          "base_uri": "https://localhost:8080/",
          "height": 747
        },
        "id": "SLaB3QNB88ei",
        "outputId": "fef83233-5bc5-4540-f008-460dc52cae02"
      },
      "execution_count": 10,
      "outputs": [
        {
          "output_type": "stream",
          "name": "stdout",
          "text": [
            "\n",
            "--- Profiling with n=20 nodes ---\n",
            "Dijkstra time: 0.0000s\n",
            "Prim: graph not connected, skipped.\n",
            "Bellman-Ford time: 0.0000s\n",
            "\n",
            "--- Profiling with n=50 nodes ---\n",
            "Dijkstra time: 0.0001s\n",
            "Prim: graph not connected, skipped.\n",
            "Bellman-Ford time: 0.0001s\n",
            "\n",
            "--- Profiling with n=100 nodes ---\n",
            "Dijkstra time: 0.0006s\n",
            "Prim time: 0.0007s\n",
            "Bellman-Ford time: 0.0297s\n"
          ]
        },
        {
          "output_type": "display_data",
          "data": {
            "text/plain": [
              "<Figure size 800x500 with 1 Axes>"
            ],
            "image/png": "[encoded data removed]"
          },
          "metadata": {}
        }
      ]
    },
    {
      "cell_type": "code",
      "source": [
        "# Memory profiling example for Dijkstra\n",
        "nodes, graph_u, edges_u = generate_random_graph_undirected(200, p_edge=0.04)\n",
        "src = nodes[0]\n",
        "\n",
        "# measure memory (peak delta)\n",
        "(res, peak_mem) = profile_memory(dijkstra, graph_u, src)\n",
        "print(f\"Dijkstra run peak memory delta (approx): {peak_mem:.4f} MiB\")\n"
      ],
      "metadata": {
        "colab": {
          "base_uri": "https://localhost:8080/"
        },
        "id": "saOjP4ZK9CP-",
        "outputId": "9fd1251b-f732-4b1e-94b5-292d556bd44c"
      },
      "execution_count": 11,
      "outputs": [
        {
          "output_type": "stream",
          "name": "stdout",
          "text": [
            "Dijkstra run peak memory delta (approx): 0.0000 MiB\n"
          ]
        }
      ]
    },
    {
      "cell_type": "code",
      "source": [
        "reqs = [\"networkx\", \"matplotlib\", \"memory-profiler\"]\n",
        "with open(\"requirements.txt\",\"w\") as f:\n",
        "    f.write(\"\\n\".join(reqs))\n",
        "print(\"requirements.txt saved.\")\n"
      ],
      "metadata": {
        "colab": {
          "base_uri": "https://localhost:8080/"
        },
        "id": "Pp6kbbD79FPH",
        "outputId": "593fbe51-13a9-43d2-ce86-c279e7b5eee6"
      },
      "execution_count": 12,
      "outputs": [
        {
          "output_type": "stream",
          "name": "stdout",
          "text": [
            "requirements.txt saved.\n"
          ]
        }
      ]
    }
  ]
}